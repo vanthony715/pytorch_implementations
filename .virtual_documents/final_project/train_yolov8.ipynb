# !pip install ultralytics
from ultralytics import YOLO


## Load a model
model = YOLO("yolov8n.pt")  # load a pretrained model for fine-tuning

## define path to datasets
objyaml = "C:/Users/vanth/OneDrive/Desktop/JHUClasses/deep_learning_dev_w_pytorch/final_project/obj.yaml"

model.train(data=objyaml, epochs=50, imgsz=256, optimizer='Adam', batch=-1,
           fliplr=0.0, lr0=0.0001, lrf=0.1, mixup=0.1, shear=0.1, degrees=15)  # train the model
metrics = model.val()  # evaluate model performance on the validation set



