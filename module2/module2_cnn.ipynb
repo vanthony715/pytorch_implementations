{
 "cells": [
  {
   "cell_type": "code",
   "execution_count": 6,
   "id": "8144a0fa-ad56-4cba-9b16-57cbfb1ae3d9",
   "metadata": {},
   "outputs": [],
   "source": [
    "import torch \n",
    "import torch.nn as nn\n",
    "import torchvision\n",
    "import torchvision.transforms as transforms"
   ]
  },
  {
   "cell_type": "code",
   "execution_count": 7,
   "id": "439701b1-db3e-4c03-ac6d-e5c8e9888eaf",
   "metadata": {},
   "outputs": [],
   "source": [
    "# device configuration\n",
    "device = torch.device('cuda' if torch.cuda.is_available() else 'cpu')"
   ]
  },
  {
   "cell_type": "code",
   "execution_count": 8,
   "id": "034cf906-c280-452c-bc97-3842d70dc896",
   "metadata": {},
   "outputs": [],
   "source": [
    "# Hyper-parameters\n",
    "batch_size = 128\n",
    "learning_rate = 1e-4\n",
    "num_classes = 100\n",
    "num_epochs = 25"
   ]
  },
  {
   "cell_type": "code",
   "execution_count": 9,
   "id": "62df8474-c3a8-4114-8deb-58bc66c9e726",
   "metadata": {},
   "outputs": [
    {
     "name": "stdout",
     "output_type": "stream",
     "text": [
      "Files already downloaded and verified\n"
     ]
    }
   ],
   "source": [
    "# CIFAR-100 dataset\n",
    "train_dataset = torchvision.datasets.CIFAR100(root='data', \n",
    "                                              train=True, \n",
    "                                              transform=transforms.ToTensor(),  \n",
    "                                              download=True)\n",
    "test_dataset = torchvision.datasets.CIFAR100(root='data', \n",
    "                                             train=False, \n",
    "                                             transform=transforms.ToTensor())"
   ]
  },
  {
   "cell_type": "code",
   "execution_count": 10,
   "id": "a13305af-c987-4247-93b4-7552f03f0bf4",
   "metadata": {},
   "outputs": [
    {
     "name": "stdout",
     "output_type": "stream",
     "text": [
      "Files already downloaded and verified\n"
     ]
    }
   ],
   "source": [
    "# CIFAR-100 dataset\n",
    "train_dataset = torchvision.datasets.CIFAR100(root='data', \n",
    "                                              train=True, \n",
    "                                              transform=transforms.ToTensor(),  \n",
    "                                              download=True)\n",
    "test_dataset = torchvision.datasets.CIFAR100(root='data', \n",
    "                                             train=False, \n",
    "                                             transform=transforms.ToTensor())"
   ]
  },
  {
   "cell_type": "code",
   "execution_count": 15,
   "id": "9968bb05-11b5-4061-bb49-8ff82e845368",
   "metadata": {},
   "outputs": [],
   "source": [
    "# Data Loaders \n",
    "train_loader = torch.utils.data.DataLoader(dataset=train_dataset, \n",
    "                                           batch_size=batch_size, \n",
    "                                           shuffle=True)\n",
    "test_loader = torch.utils.data.DataLoader(dataset=test_dataset, \n",
    "                                          batch_size=batch_size, \n",
    "                                          shuffle=False)"
   ]
  },
  {
   "cell_type": "code",
   "execution_count": 29,
   "id": "aeccee3e-c0e8-4339-b89e-ea1e4e9fec74",
   "metadata": {},
   "outputs": [],
   "source": [
    "class ConvNet(nn.Module):\n",
    "    def __init__(self, num_classes):\n",
    "        super(ConvNet, self).__init__()\n",
    "        self.block1 = nn.Sequential(\n",
    "            nn.Conv2d(3, 16, kernel_size=5, stride=1, padding=2),\n",
    "            nn.BatchNorm2d(16),\n",
    "            nn.ReLU(),\n",
    "            nn.MaxPool2d(kernel_size=2, stride=2))\n",
    "        self.block2 = nn.Sequential(\n",
    "            nn.Conv2d(16, 32, kernel_size=5, stride=1, padding=2),\n",
    "            nn.BatchNorm2d(32),\n",
    "            nn.ReLU(),\n",
    "            nn.MaxPool2d(kernel_size=2, stride=2))\n",
    "        self.fc = nn.Linear(8*8*32, num_classes)\n",
    "        \n",
    "    def forward(self, x):\n",
    "        out = self.block1(x)\n",
    "        out = self.block2(out)\n",
    "        out = out.reshape(out.size(0), -1)\n",
    "        out = self.fc(out)\n",
    "        return out"
   ]
  },
  {
   "cell_type": "code",
   "execution_count": 31,
   "id": "22fffdc4-77b1-4b61-98ec-9389f7fcbcc3",
   "metadata": {},
   "outputs": [],
   "source": [
    "cnn = ConvNet(num_classes).to(device)\n",
    "\n",
    "# Loss and optimizer\n",
    "criterion = nn.CrossEntropyLoss()\n",
    "optimizer = torch.optim.Adam(cnn.parameters(), lr=learning_rate)"
   ]
  },
  {
   "cell_type": "code",
   "execution_count": 33,
   "id": "5199991d-acb5-4901-b460-a74ca47e0cea",
   "metadata": {},
   "outputs": [
    {
     "name": "stdout",
     "output_type": "stream",
     "text": [
      "Epoch [1/25], Step [100/391], Loss: 4.0264\n",
      "Epoch [1/25], Step [200/391], Loss: 3.7821\n",
      "Epoch [1/25], Step [300/391], Loss: 3.5991\n",
      "Epoch [2/25], Step [100/391], Loss: 3.5124\n",
      "Epoch [2/25], Step [200/391], Loss: 3.3348\n",
      "Epoch [2/25], Step [300/391], Loss: 3.2977\n",
      "Epoch [3/25], Step [100/391], Loss: 3.0110\n",
      "Epoch [3/25], Step [200/391], Loss: 2.9691\n",
      "Epoch [3/25], Step [300/391], Loss: 3.0231\n",
      "Epoch [4/25], Step [100/391], Loss: 2.6936\n",
      "Epoch [4/25], Step [200/391], Loss: 2.9009\n",
      "Epoch [4/25], Step [300/391], Loss: 2.6784\n",
      "Epoch [5/25], Step [100/391], Loss: 2.7538\n",
      "Epoch [5/25], Step [200/391], Loss: 2.5861\n",
      "Epoch [5/25], Step [300/391], Loss: 2.6214\n",
      "Epoch [6/25], Step [100/391], Loss: 2.4945\n",
      "Epoch [6/25], Step [200/391], Loss: 2.6787\n",
      "Epoch [6/25], Step [300/391], Loss: 2.3611\n",
      "Epoch [7/25], Step [100/391], Loss: 2.4416\n",
      "Epoch [7/25], Step [200/391], Loss: 2.5427\n",
      "Epoch [7/25], Step [300/391], Loss: 2.5548\n",
      "Epoch [8/25], Step [100/391], Loss: 2.1737\n",
      "Epoch [8/25], Step [200/391], Loss: 2.3827\n",
      "Epoch [8/25], Step [300/391], Loss: 2.2500\n",
      "Epoch [9/25], Step [100/391], Loss: 2.4743\n",
      "Epoch [9/25], Step [200/391], Loss: 2.3843\n",
      "Epoch [9/25], Step [300/391], Loss: 2.3317\n",
      "Epoch [10/25], Step [100/391], Loss: 2.3403\n",
      "Epoch [10/25], Step [200/391], Loss: 2.4827\n",
      "Epoch [10/25], Step [300/391], Loss: 2.3204\n",
      "Epoch [11/25], Step [100/391], Loss: 2.0185\n",
      "Epoch [11/25], Step [200/391], Loss: 1.8012\n",
      "Epoch [11/25], Step [300/391], Loss: 2.0049\n",
      "Epoch [12/25], Step [100/391], Loss: 1.9421\n",
      "Epoch [12/25], Step [200/391], Loss: 2.1596\n",
      "Epoch [12/25], Step [300/391], Loss: 2.0707\n",
      "Epoch [13/25], Step [100/391], Loss: 2.0289\n",
      "Epoch [13/25], Step [200/391], Loss: 1.7650\n",
      "Epoch [13/25], Step [300/391], Loss: 2.0770\n",
      "Epoch [14/25], Step [100/391], Loss: 2.0974\n",
      "Epoch [14/25], Step [200/391], Loss: 2.2211\n",
      "Epoch [14/25], Step [300/391], Loss: 2.2180\n",
      "Epoch [15/25], Step [100/391], Loss: 1.8676\n",
      "Epoch [15/25], Step [200/391], Loss: 1.8454\n",
      "Epoch [15/25], Step [300/391], Loss: 2.0311\n",
      "Epoch [16/25], Step [100/391], Loss: 2.0593\n",
      "Epoch [16/25], Step [200/391], Loss: 2.1245\n",
      "Epoch [16/25], Step [300/391], Loss: 1.9608\n",
      "Epoch [17/25], Step [100/391], Loss: 1.6940\n",
      "Epoch [17/25], Step [200/391], Loss: 2.1702\n",
      "Epoch [17/25], Step [300/391], Loss: 1.7792\n",
      "Epoch [18/25], Step [100/391], Loss: 1.7779\n",
      "Epoch [18/25], Step [200/391], Loss: 1.8887\n",
      "Epoch [18/25], Step [300/391], Loss: 2.2148\n",
      "Epoch [19/25], Step [100/391], Loss: 1.8248\n",
      "Epoch [19/25], Step [200/391], Loss: 1.8608\n",
      "Epoch [19/25], Step [300/391], Loss: 1.6697\n",
      "Epoch [20/25], Step [100/391], Loss: 1.6274\n",
      "Epoch [20/25], Step [200/391], Loss: 1.5848\n",
      "Epoch [20/25], Step [300/391], Loss: 1.6580\n",
      "Epoch [21/25], Step [100/391], Loss: 1.8158\n",
      "Epoch [21/25], Step [200/391], Loss: 1.8522\n",
      "Epoch [21/25], Step [300/391], Loss: 1.5388\n",
      "Epoch [22/25], Step [100/391], Loss: 1.6679\n",
      "Epoch [22/25], Step [200/391], Loss: 1.7171\n",
      "Epoch [22/25], Step [300/391], Loss: 1.8103\n",
      "Epoch [23/25], Step [100/391], Loss: 1.5721\n",
      "Epoch [23/25], Step [200/391], Loss: 1.5485\n",
      "Epoch [23/25], Step [300/391], Loss: 1.8462\n",
      "Epoch [24/25], Step [100/391], Loss: 1.7342\n",
      "Epoch [24/25], Step [200/391], Loss: 1.4996\n",
      "Epoch [24/25], Step [300/391], Loss: 1.6740\n",
      "Epoch [25/25], Step [100/391], Loss: 1.7131\n",
      "Epoch [25/25], Step [200/391], Loss: 1.8007\n",
      "Epoch [25/25], Step [300/391], Loss: 1.7316\n"
     ]
    }
   ],
   "source": [
    "# Train the model\n",
    "total_step = len(train_loader)\n",
    "for epoch in range(num_epochs):\n",
    "    for i, (images, labels) in enumerate(train_loader):\n",
    "        images = images.to(device)\n",
    "        labels = labels.to(device)\n",
    "        \n",
    "        # Forward pass\n",
    "        outputs = cnn(images)\n",
    "        loss = criterion(outputs, labels)\n",
    "        \n",
    "        # Backward and optimize\n",
    "        optimizer.zero_grad()\n",
    "        loss.backward()\n",
    "        optimizer.step()\n",
    "        \n",
    "        if (i+1) % 100 == 0:\n",
    "            print ('Epoch [{}/{}], Step [{}/{}], Loss: {:.4f}' \n",
    "                   .format(epoch+1, num_epochs, i+1, total_step, loss.item()))"
   ]
  },
  {
   "cell_type": "code",
   "execution_count": 38,
   "id": "7baca5af-5175-41e9-8d43-54d0fd6d328e",
   "metadata": {},
   "outputs": [
    {
     "name": "stdout",
     "output_type": "stream",
     "text": [
      "Test Accuracy of the model on the 10000 test images: 39.5 %\n"
     ]
    }
   ],
   "source": [
    "# Test the model\n",
    "cnn.eval()  # eval mode (batchnorm uses moving mean/variance instead of mini-batch mean/variance)\n",
    "with torch.no_grad():\n",
    "    correct = 0\n",
    "    total = 0\n",
    "    for images, labels in test_loader:\n",
    "        images = images.to(device)\n",
    "        labels = labels.to(device)\n",
    "        outputs = cnn(images)\n",
    "        _, predicted = torch.max(outputs.data, 1)\n",
    "        total += labels.size(0)\n",
    "        correct += (predicted == labels).sum().item()\n",
    "\n",
    "    print('Test Accuracy of the model on the 10000 test images: {} %'.format(100 * correct / total))"
   ]
  },
  {
   "cell_type": "code",
   "execution_count": null,
   "id": "3607b5aa-0e41-460c-9379-a1727cd82643",
   "metadata": {},
   "outputs": [],
   "source": [
    "# Save the model checkpoint\n",
    "# torch.save(cnn.state_dict(), 'ckpts/cnn_cls.ckpt')"
   ]
  }
 ],
 "metadata": {
  "kernelspec": {
   "display_name": "Python 3 (ipykernel)",
   "language": "python",
   "name": "python3"
  },
  "language_info": {
   "codemirror_mode": {
    "name": "ipython",
    "version": 3
   },
   "file_extension": ".py",
   "mimetype": "text/x-python",
   "name": "python",
   "nbconvert_exporter": "python",
   "pygments_lexer": "ipython3",
   "version": "3.9.15"
  }
 },
 "nbformat": 4,
 "nbformat_minor": 5
}
