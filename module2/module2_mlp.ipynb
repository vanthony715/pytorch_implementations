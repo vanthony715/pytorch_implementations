{
 "cells": [
  {
   "cell_type": "code",
   "execution_count": 2,
   "id": "39299747-4bfe-4b17-9008-65a5fcf2fa9d",
   "metadata": {},
   "outputs": [],
   "source": [
    "import torch \n",
    "import torch.nn as nn\n",
    "import torchvision\n",
    "import torchvision.transforms as transforms"
   ]
  },
  {
   "cell_type": "code",
   "execution_count": 3,
   "id": "02d32be0-61dd-4eaf-8f6b-69af69fefc82",
   "metadata": {},
   "outputs": [],
   "source": [
    "# device configuration\n",
    "device = torch.device('cuda' if torch.cuda.is_available() else 'cpu')"
   ]
  },
  {
   "cell_type": "code",
   "execution_count": 25,
   "id": "2721b269-a815-454e-ae6c-479ce511c05f",
   "metadata": {},
   "outputs": [],
   "source": [
    "# Hyper-parameters\n",
    "batch_size = 128\n",
    "learning_rate = 1e-4\n",
    "num_classes = 100\n",
    "num_epochs = 25\n",
    "hidden_size_one = 512\n",
    "hidden_size_two = 256"
   ]
  },
  {
   "cell_type": "code",
   "execution_count": 4,
   "id": "2d4794f7-a133-44d8-8268-841e5ee39cdc",
   "metadata": {},
   "outputs": [
    {
     "name": "stdout",
     "output_type": "stream",
     "text": [
      "Downloading https://www.cs.toronto.edu/~kriz/cifar-100-python.tar.gz to data/cifar-100-python.tar.gz\n"
     ]
    },
    {
     "data": {
      "application/vnd.jupyter.widget-view+json": {
       "model_id": "2bcc5ecd473a4f43871ed6ed711c652e",
       "version_major": 2,
       "version_minor": 0
      },
      "text/plain": [
       "  0%|          | 0/169001437 [00:00<?, ?it/s]"
      ]
     },
     "metadata": {},
     "output_type": "display_data"
    },
    {
     "name": "stdout",
     "output_type": "stream",
     "text": [
      "Extracting data/cifar-100-python.tar.gz to data\n"
     ]
    }
   ],
   "source": [
    "# CIFAR-100 dataset\n",
    "train_dataset = torchvision.datasets.CIFAR100(root='data', \n",
    "                                              train=True, \n",
    "                                              transform=transforms.ToTensor(),  \n",
    "                                              download=True)\n",
    "test_dataset = torchvision.datasets.CIFAR100(root='data', \n",
    "                                             train=False, \n",
    "                                             transform=transforms.ToTensor())"
   ]
  },
  {
   "cell_type": "code",
   "execution_count": 6,
   "id": "991d3228-535f-4803-8c40-cfdf217fc24f",
   "metadata": {},
   "outputs": [],
   "source": [
    "# Data Loaders \n",
    "train_loader = torch.utils.data.DataLoader(dataset=train_dataset, \n",
    "                                           batch_size=batch_size, \n",
    "                                           shuffle=True)\n",
    "test_loader = torch.utils.data.DataLoader(dataset=test_dataset, \n",
    "                                          batch_size=batch_size, \n",
    "                                          shuffle=False)"
   ]
  },
  {
   "cell_type": "code",
   "execution_count": 9,
   "id": "5f431611-d95b-4d0e-aa2a-64ec565acb1c",
   "metadata": {},
   "outputs": [],
   "source": [
    "# Multilayer Linear Perceptron (MLP) or Fully Connected Neural Network\n",
    "class MLP(nn.Module):\n",
    "    def __init__(self, input_size, hidden_size1, hidden_size2, num_classes):\n",
    "        super(MLP, self).__init__()\n",
    "        self.fc1 = nn.Linear(input_size, hidden_size1)\n",
    "        self.relu1 = nn.ReLU()\n",
    "        self.fc2 = nn.Linear(hidden_size1, hidden_size2)\n",
    "        self.relu2 = nn.ReLU()\n",
    "        self.fc3 = nn.Linear(hidden_size2, num_classes)\n",
    "        \n",
    "    def forward(self, x):\n",
    "        out = self.fc1(x)\n",
    "        out = self.relu1(out)\n",
    "        out = self.fc2(out)\n",
    "        out = self.relu2(out)\n",
    "        out = self.fc3(out)\n",
    "        return out"
   ]
  },
  {
   "cell_type": "code",
   "execution_count": 21,
   "id": "d0c2369c-ef00-4755-96e7-fe72a7682b80",
   "metadata": {},
   "outputs": [],
   "source": [
    "c, h, w = train_dataset[0][0].shape\n",
    "mlp = MLP(c*h*w, hidden_size_one, hidden_size_two, num_classes).to(device)\n",
    "\n",
    "criterion = nn.CrossEntropyLoss()\n",
    "optimizer = torch.optim.Adam(mlp.parameters(), lr=learning_rate)"
   ]
  },
  {
   "cell_type": "code",
   "execution_count": 26,
   "id": "a421a10e-30e0-4ed9-8032-d15574a19029",
   "metadata": {},
   "outputs": [
    {
     "name": "stdout",
     "output_type": "stream",
     "text": [
      "Epoch [1/25], Step [100/391], Loss: 2.7383\n",
      "Epoch [1/25], Step [200/391], Loss: 2.5173\n",
      "Epoch [1/25], Step [300/391], Loss: 2.5550\n",
      "Epoch [2/25], Step [100/391], Loss: 2.3809\n",
      "Epoch [2/25], Step [200/391], Loss: 2.5851\n",
      "Epoch [2/25], Step [300/391], Loss: 2.5284\n",
      "Epoch [3/25], Step [100/391], Loss: 2.5632\n",
      "Epoch [3/25], Step [200/391], Loss: 2.5049\n",
      "Epoch [3/25], Step [300/391], Loss: 2.6718\n",
      "Epoch [4/25], Step [100/391], Loss: 2.4961\n",
      "Epoch [4/25], Step [200/391], Loss: 2.6929\n",
      "Epoch [4/25], Step [300/391], Loss: 2.3228\n",
      "Epoch [5/25], Step [100/391], Loss: 2.6799\n",
      "Epoch [5/25], Step [200/391], Loss: 2.5600\n",
      "Epoch [5/25], Step [300/391], Loss: 2.2464\n",
      "Epoch [6/25], Step [100/391], Loss: 2.2562\n",
      "Epoch [6/25], Step [200/391], Loss: 2.6538\n",
      "Epoch [6/25], Step [300/391], Loss: 2.5790\n",
      "Epoch [7/25], Step [100/391], Loss: 2.4956\n",
      "Epoch [7/25], Step [200/391], Loss: 2.4207\n",
      "Epoch [7/25], Step [300/391], Loss: 2.6311\n",
      "Epoch [8/25], Step [100/391], Loss: 2.5366\n",
      "Epoch [8/25], Step [200/391], Loss: 2.4179\n",
      "Epoch [8/25], Step [300/391], Loss: 2.5057\n",
      "Epoch [10/25], Step [100/391], Loss: 2.4594\n",
      "Epoch [10/25], Step [200/391], Loss: 2.3768\n",
      "Epoch [10/25], Step [300/391], Loss: 2.7439\n",
      "Epoch [11/25], Step [100/391], Loss: 2.5508\n",
      "Epoch [11/25], Step [200/391], Loss: 2.6471\n",
      "Epoch [11/25], Step [300/391], Loss: 2.3619\n",
      "Epoch [12/25], Step [100/391], Loss: 2.4068\n",
      "Epoch [12/25], Step [200/391], Loss: 2.5589\n",
      "Epoch [12/25], Step [300/391], Loss: 2.6410\n",
      "Epoch [13/25], Step [100/391], Loss: 2.0364\n",
      "Epoch [13/25], Step [200/391], Loss: 2.5796\n",
      "Epoch [13/25], Step [300/391], Loss: 2.0933\n",
      "Epoch [14/25], Step [100/391], Loss: 1.8502\n",
      "Epoch [14/25], Step [200/391], Loss: 2.2290\n",
      "Epoch [14/25], Step [300/391], Loss: 2.4785\n",
      "Epoch [15/25], Step [100/391], Loss: 2.5155\n",
      "Epoch [15/25], Step [200/391], Loss: 2.2545\n",
      "Epoch [15/25], Step [300/391], Loss: 2.5811\n",
      "Epoch [16/25], Step [100/391], Loss: 2.1141\n",
      "Epoch [16/25], Step [200/391], Loss: 2.3119\n",
      "Epoch [16/25], Step [300/391], Loss: 2.5491\n",
      "Epoch [17/25], Step [100/391], Loss: 2.2246\n",
      "Epoch [17/25], Step [200/391], Loss: 2.3111\n",
      "Epoch [17/25], Step [300/391], Loss: 2.4038\n",
      "Epoch [18/25], Step [100/391], Loss: 2.1568\n",
      "Epoch [18/25], Step [200/391], Loss: 2.3441\n",
      "Epoch [18/25], Step [300/391], Loss: 2.2536\n",
      "Epoch [19/25], Step [100/391], Loss: 2.3958\n",
      "Epoch [19/25], Step [200/391], Loss: 2.1447\n",
      "Epoch [19/25], Step [300/391], Loss: 2.4451\n",
      "Epoch [20/25], Step [100/391], Loss: 2.3062\n",
      "Epoch [20/25], Step [200/391], Loss: 2.0483\n",
      "Epoch [20/25], Step [300/391], Loss: 2.2050\n",
      "Epoch [21/25], Step [100/391], Loss: 2.3909\n",
      "Epoch [21/25], Step [200/391], Loss: 2.2423\n",
      "Epoch [21/25], Step [300/391], Loss: 2.2537\n",
      "Epoch [22/25], Step [100/391], Loss: 2.1253\n",
      "Epoch [22/25], Step [200/391], Loss: 2.2252\n",
      "Epoch [22/25], Step [300/391], Loss: 2.0026\n",
      "Epoch [23/25], Step [100/391], Loss: 2.1382\n",
      "Epoch [23/25], Step [200/391], Loss: 2.3549\n",
      "Epoch [23/25], Step [300/391], Loss: 2.1635\n",
      "Epoch [24/25], Step [100/391], Loss: 2.3078\n",
      "Epoch [24/25], Step [200/391], Loss: 2.2704\n",
      "Epoch [24/25], Step [300/391], Loss: 2.3270\n",
      "Epoch [25/25], Step [100/391], Loss: 2.3576\n",
      "Epoch [25/25], Step [200/391], Loss: 2.5299\n",
      "Epoch [25/25], Step [300/391], Loss: 2.2185\n"
     ]
    }
   ],
   "source": [
    "# training \n",
    "total_step = len(train_loader)\n",
    "for epoch in range(num_epochs):\n",
    "    for i, (images, labels) in enumerate(train_loader):  \n",
    "        # Move tensors to the configured device\n",
    "        images = images.reshape(-1, c*h*w).to(device)\n",
    "        labels = labels.to(device)\n",
    "        \n",
    "        # Forward pass\n",
    "        outputs = mlp(images)\n",
    "        loss = criterion(outputs, labels)\n",
    "        \n",
    "        # Backward and optimize\n",
    "        optimizer.zero_grad()\n",
    "        loss.backward()\n",
    "        optimizer.step()\n",
    "        \n",
    "        if (i+1) % 100 == 0:\n",
    "            print ('Epoch [{}/{}], Step [{}/{}], Loss: {:.4f}' \n",
    "                   .format(epoch+1, num_epochs, i+1, total_step, loss.item()))"
   ]
  },
  {
   "cell_type": "code",
   "execution_count": 27,
   "id": "a2a7e5e5-64bd-424a-ab70-78e7a2313d33",
   "metadata": {},
   "outputs": [
    {
     "name": "stdout",
     "output_type": "stream",
     "text": [
      "Accuracy of the network on the 10000 test images: 23.28 %\n"
     ]
    }
   ],
   "source": [
    "# Test the model\n",
    "# In test phase, we don't need to compute gradients (for memory efficiency)\n",
    "with torch.no_grad():\n",
    "    correct = 0\n",
    "    total = 0\n",
    "    for images, labels in test_loader:\n",
    "        images = images.reshape(-1, c*h*w).to(device)\n",
    "        labels = labels.to(device)\n",
    "        outputs = mlp(images)\n",
    "        _, predicted = torch.max(outputs.data, 1)\n",
    "        total += labels.size(0)\n",
    "        correct += (predicted == labels).sum().item()\n",
    "\n",
    "    print('Accuracy of the network on the 10000 test images: {} %'.format(100 * correct / total))\n",
    "    \n",
    "# Save the model checkpoint\n",
    "torch.save(mlp.state_dict(), 'ckpts/mlp_cls.ckpt')"
   ]
  },
  {
   "cell_type": "code",
   "execution_count": null,
   "id": "8603ccfb-b5a8-4aa2-8b4d-983e571a8987",
   "metadata": {},
   "outputs": [],
   "source": []
  }
 ],
 "metadata": {
  "kernelspec": {
   "display_name": "Python 3 (ipykernel)",
   "language": "python",
   "name": "python3"
  },
  "language_info": {
   "codemirror_mode": {
    "name": "ipython",
    "version": 3
   },
   "file_extension": ".py",
   "mimetype": "text/x-python",
   "name": "python",
   "nbconvert_exporter": "python",
   "pygments_lexer": "ipython3",
   "version": "3.9.15"
  }
 },
 "nbformat": 4,
 "nbformat_minor": 5
}
