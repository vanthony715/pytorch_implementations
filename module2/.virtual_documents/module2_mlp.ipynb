import torch 
import torch.nn as nn
import torchvision
import torchvision.transforms as transforms


# device configuration
device = torch.device('cuda' if torch.cuda.is_available() else 'cpu')


# Hyper-parameters
batch_size = 128
learning_rate = 1e-4
num_classes = 100
num_epochs = 25
hidden_size_one = 512
hidden_size_two = 256


# CIFAR-100 dataset
train_dataset = torchvision.datasets.CIFAR100(root='data', 
                                              train=True, 
                                              transform=transforms.ToTensor(),  
                                              download=True)
test_dataset = torchvision.datasets.CIFAR100(root='data', 
                                             train=False, 
                                             transform=transforms.ToTensor())


# Data Loaders 
train_loader = torch.utils.data.DataLoader(dataset=train_dataset, 
                                           batch_size=batch_size, 
                                           shuffle=True)
test_loader = torch.utils.data.DataLoader(dataset=test_dataset, 
                                          batch_size=batch_size, 
                                          shuffle=False)


# Multilayer Linear Perceptron (MLP) or Fully Connected Neural Network
class MLP(nn.Module):
    def __init__(self, input_size, hidden_size1, hidden_size2, num_classes):
        super(MLP, self).__init__()
        self.fc1 = nn.Linear(input_size, hidden_size1)
        self.relu1 = nn.ReLU()
        self.fc2 = nn.Linear(hidden_size1, hidden_size2)
        self.relu2 = nn.ReLU()
        self.fc3 = nn.Linear(hidden_size2, num_classes)
        
    def forward(self, x):
        out = self.fc1(x)
        out = self.relu1(out)
        out = self.fc2(out)
        out = self.relu2(out)
        out = self.fc3(out)
        return out


c, h, w = train_dataset[0][0].shape
mlp = MLP(c*h*w, hidden_size_one, hidden_size_two, num_classes).to(device)

criterion = nn.CrossEntropyLoss()
optimizer = torch.optim.Adam(mlp.parameters(), lr=learning_rate)


# training 
total_step = len(train_loader)
for epoch in range(num_epochs):
    for i, (images, labels) in enumerate(train_loader):  
        # Move tensors to the configured device
        images = images.reshape(-1, c*h*w).to(device)
        labels = labels.to(device)
        
        # Forward pass
        outputs = mlp(images)
        loss = criterion(outputs, labels)
        
        # Backward and optimize
        optimizer.zero_grad()
        loss.backward()
        optimizer.step()
        
        if (i+1) % 100 == 0:
            print ('Epoch [{}/{}], Step [{}/{}], Loss: {:.4f}' 
                   .format(epoch+1, num_epochs, i+1, total_step, loss.item()))


# Test the model
# In test phase, we don't need to compute gradients (for memory efficiency)
with torch.no_grad():
    correct = 0
    total = 0
    for images, labels in test_loader:
        images = images.reshape(-1, c*h*w).to(device)
        labels = labels.to(device)
        outputs = mlp(images)
        _, predicted = torch.max(outputs.data, 1)
        total += labels.size(0)
        correct += (predicted == labels).sum().item()

    print('Accuracy of the network on the 10000 test images: {} %'.format(100 * correct / total))
    
# Save the model checkpoint
torch.save(mlp.state_dict(), 'ckpts/mlp_cls.ckpt')



