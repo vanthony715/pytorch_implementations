{
 "cells": [
  {
   "cell_type": "code",
   "execution_count": null,
   "id": "05d478c4-e312-47bf-a887-cee0aa8c4128",
   "metadata": {},
   "outputs": [],
   "source": [
    "# !pip install ultralytics\n",
    "from ultralytics import YOLO"
   ]
  },
  {
   "cell_type": "code",
   "execution_count": null,
   "id": "e2631a8d-b635-41cf-998d-3e7b7747868d",
   "metadata": {},
   "outputs": [],
   "source": [
    "%%time\n",
    "\n",
    "## Load a model\n",
    "model = YOLO(\"yolov8n.pt\")  # load a pretrained model for fine-tuning\n",
    "\n",
    "## define path to datasets\n",
    "objyaml = \"C:/Users/vanth/OneDrive/Desktop/JHUClasses/deep_learning_dev_w_pytorch/final_project/obj.yaml\"\n",
    "\n",
    "model.train(data=objyaml, epochs=20, imgsz=256, optimizer='Adam', batch=32,\n",
    "           fliplr=0.0, lr0=0.0001, lrf=0.1, mixup=0.1, shear=0.1, degrees=15)  # train the model\n",
    "metrics = model.val()  # evaluate model performance on the validation set"
   ]
  },
  {
   "cell_type": "code",
   "execution_count": null,
   "id": "04c88fb2-585c-45f4-acfa-693cf108af80",
   "metadata": {},
   "outputs": [],
   "source": []
  }
 ],
 "metadata": {
  "kernelspec": {
   "display_name": "Python 3 (ipykernel)",
   "language": "python",
   "name": "python3"
  },
  "language_info": {
   "codemirror_mode": {
    "name": "ipython",
    "version": 3
   },
   "file_extension": ".py",
   "mimetype": "text/x-python",
   "name": "python",
   "nbconvert_exporter": "python",
   "pygments_lexer": "ipython3",
   "version": "3.8.18"
  }
 },
 "nbformat": 4,
 "nbformat_minor": 5
}
